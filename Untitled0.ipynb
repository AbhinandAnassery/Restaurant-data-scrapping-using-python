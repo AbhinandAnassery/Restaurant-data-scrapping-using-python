{
  "nbformat": 4,
  "nbformat_minor": 0,
  "metadata": {
    "colab": {
      "provenance": []
    },
    "kernelspec": {
      "name": "python3",
      "display_name": "Python 3"
    },
    "language_info": {
      "name": "python"
    }
  },
  "cells": [
    {
      "cell_type": "code",
      "execution_count": null,
      "metadata": {
        "colab": {
          "base_uri": "https://localhost:8080/"
        },
        "id": "ILrzgPvOsw9M",
        "outputId": "d5767aba-4310-425d-fdea-dc0df16a39c2"
      },
      "outputs": [
        {
          "output_type": "stream",
          "name": "stdout",
          "text": [
            "Enter your city name: kozhikode\n",
            "Name: N/A\n",
            "Address: N/A\n",
            "Rating: N/A\n",
            "--------------------------------------------------\n",
            "Name: N/A\n",
            "Address: N/A\n",
            "Rating: N/A\n",
            "--------------------------------------------------\n",
            "Name: N/A\n",
            "Address: N/A\n",
            "Rating: N/A\n",
            "--------------------------------------------------\n",
            "Name: N/A\n",
            "Address: N/A\n",
            "Rating: N/A\n",
            "--------------------------------------------------\n",
            "Name: N/A\n",
            "Address: N/A\n",
            "Rating: N/A\n",
            "--------------------------------------------------\n",
            "Name: N/A\n",
            "Address: N/A\n",
            "Rating: N/A\n",
            "--------------------------------------------------\n",
            "Name: N/A\n",
            "Address: N/A\n",
            "Rating: N/A\n",
            "--------------------------------------------------\n",
            "Name: N/A\n",
            "Address: N/A\n",
            "Rating: N/A\n",
            "--------------------------------------------------\n",
            "Name: N/A\n",
            "Address: N/A\n",
            "Rating: N/A\n",
            "--------------------------------------------------\n",
            "Name: N/A\n",
            "Address: N/A\n",
            "Rating: N/A\n",
            "--------------------------------------------------\n",
            "Name: N/A\n",
            "Address: N/A\n",
            "Rating: N/A\n",
            "--------------------------------------------------\n",
            "Name: N/A\n",
            "Address: N/A\n",
            "Rating: N/A\n",
            "--------------------------------------------------\n"
          ]
        }
      ],
      "source": [
        "import requests\n",
        "from bs4 import BeautifulSoup\n",
        "\n",
        "# Step 1: Get city name from user\n",
        "city_name = input(\"Enter your city name: \").lower().replace(\" \", \"-\")\n",
        "\n",
        "# Step 2: Create URL for the city page\n",
        "city_url = f\"https://www.zomato.com/{city_name}\"\n",
        "headers = {\n",
        "    \"User-Agent\": \"Mozilla/5.0 (Windows NT 10.0; Win64; x64) AppleWebKit/537.36 (KHTML, like Gecko) Chrome/112.0.0.0 Safari/537.36\"\n",
        "}\n",
        "\n",
        "# Step 3: Send a GET request to fetch the page\n",
        "getresponse = requests.get(city_url, headers=headers)\n",
        "\n",
        "if getresponse.status_code != 200:\n",
        "    print(f\"Failed to fetch data for {city_name}. Status code: {getresponse.status_code}\")\n",
        "    exit()\n",
        "\n",
        "# Step 4: Parse the HTML content\n",
        "soup = BeautifulSoup(getresponse.content, \"lxml\")\n",
        "\n",
        "# Step 5: Find restaurant cards\n",
        "# Replace the placeholder class 'sc-...' with the correct class name after inspecting the website\n",
        "restaurant_cards = soup.find_all('div', class_='sc-1mo3ldo-0')  # Update class\n",
        "\n",
        "if not restaurant_cards:\n",
        "    print(\"No restaurants found. Ensure the class names are correct.\")\n",
        "    exit()\n",
        "\n",
        "# Step 6: Extract and print data for each restaurant\n",
        "for card in restaurant_cards:\n",
        "    # Update these class names after inspecting the Zomato page\n",
        "    name = card.find('h4', class_='sc-cANqwJ').text.strip() if card.find('h4', class_='sc-cANqwJ') else \"N/A\"\n",
        "    address = card.find('p', class_='sc-fQejPQ').text.strip() if card.find('p', class_='sc-fQejPQ') else \"N/A\"\n",
        "    rating = card.find('span', class_='sc-1q7bklc-5').text.strip() if card.find('span', class_='sc-1q7bklc-5') else \"N/A\"\n",
        "\n",
        "    print(f\"Name: {name}\")\n",
        "    print(f\"Address: {address}\")\n",
        "    print(f\"Rating: {rating}\")\n",
        "    print(\"-\" * 50)\n"
      ]
    }
  ]
}